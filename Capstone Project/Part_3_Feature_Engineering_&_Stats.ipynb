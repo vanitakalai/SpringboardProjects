{
 "cells": [
  {
   "cell_type": "markdown",
   "metadata": {},
   "source": [
    "## Capstone Project 1: Modelling Cycle Hire Network\n",
    "### Part 3: Feature Engineering"
   ]
  },
  {
   "cell_type": "markdown",
   "metadata": {},
   "source": [
    "<b>In part 3, we will contine our work in Part 1 in cleaning up the data and selecting the right features for our model."
   ]
  },
  {
   "cell_type": "code",
   "execution_count": 30,
   "metadata": {},
   "outputs": [],
   "source": [
    "import pandas as pd\n",
    "import numpy as np\n",
    "from datetime import datetime\n",
    "from datetime import timedelta"
   ]
  },
  {
   "cell_type": "code",
   "execution_count": 31,
   "metadata": {},
   "outputs": [],
   "source": [
    "#download cleaned cycle hire data\n",
    "cycle_df = pd.read_csv('cycle_df_weather.csv', parse_dates=[0, 1, 3])"
   ]
  },
  {
   "cell_type": "markdown",
   "metadata": {},
   "source": [
    "<b>We want to use our model to predict the next-day demand at each station. We need to first reduce our observations to be a daily aggregation, then include more predictor variables such as rides count from day before and 7 day moving average for the duration. "
   ]
  },
  {
   "cell_type": "code",
   "execution_count": 32,
   "metadata": {},
   "outputs": [],
   "source": [
    "# drop non useful columns\n",
    "features_df = cycle_df.drop(columns=['Start Date', 'End Date', 'StartStation Name', 'EndStation Name',\n",
    "                                    'EndStation Id', 'hour'])\n",
    "\n",
    "# aggregate data by day and station \n",
    "aggfunc = {'Duration(mins)' : 'mean', 'Day' : 'max', 'day_code' : 'max', 'Temperature' : 'mean', 'Wind Speed' : 'mean',\n",
    "           'w_cond_Bad weather' : 'mean', 'w_cond_Good weather' : 'mean', 'w_cond_OK weather' : 'mean', \n",
    "           'w_cond_Very bad weather' : 'mean', 'Bike Id': 'count'}\n",
    "\n",
    "features_df = features_df.groupby(['StartStation Id', 'Date']).agg(aggfunc).rename(columns={'Bike Id' : 'Count'})\n",
    "\n",
    "# transform day codes into binary codes \n",
    "features_df['day_code'] = features_df['day_code'].replace({'PH' : 0, 'WD' : 0, 'W': 1})"
   ]
  },
  {
   "cell_type": "markdown",
   "metadata": {},
   "source": [
    "<b>Before computing the rides count for the day before and 7 day rolling average for duration, we need to first fill in values for dates not found in the observations i.e. dates where no one hired a cycle. We can do this by creating a new index that spans all the stations for all the dates in the dataset and use reindexing to fill the days with 0 for number of rides and 0 for duration of rides."
   ]
  },
  {
   "cell_type": "code",
   "execution_count": 33,
   "metadata": {},
   "outputs": [],
   "source": [
    "#creating new index for all dates\n",
    "date_range = np.tile(pd.date_range(start = features_df.index.min()[1], end= features_df.index.max()[1]), \n",
    "             features_df.index.max()[0])\n",
    "num_range = np.repeat((np.array(list(range(features_df.index.max()[0]))) + 1), \n",
    "               (features_df.index.max()[1] - features_df.index.min()[1]).days + 1) \n",
    "new_index = list(zip(num_range, date_range))\n",
    "\n",
    "new_index_df = features_df[['Duration(mins)', 'Count']].reindex(new_index).fillna(0)\n",
    "\n",
    "#adding new features: day before count and 7 day rolling duration average\n",
    "new_index_df['day_bf_count'] = new_index_df['Count'].groupby(level=0).shift()\n",
    "new_index_df['7d_rolling_dur'] = new_index_df['Duration(mins)'].groupby(level=0).apply(lambda x: x.rolling(window=7).mean())"
   ]
  },
  {
   "cell_type": "code",
   "execution_count": 34,
   "metadata": {},
   "outputs": [],
   "source": [
    "features_df['day_bf_count'] = new_index_df[new_index_df['Count'] != 0]['day_bf_count']\n",
    "features_df['7d_rolling_dur'] = new_index_df[new_index_df['Count'] != 0]['7d_rolling_dur']"
   ]
  },
  {
   "cell_type": "markdown",
   "metadata": {},
   "source": [
    "<b>Another useful information might be the number of rides that end at the specific station. This way we can see if there is a demand-supply mismatch."
   ]
  },
  {
   "cell_type": "code",
   "execution_count": 35,
   "metadata": {},
   "outputs": [],
   "source": [
    "end_station_num = cycle_df.groupby(['EndStation Id', 'Date']).count()['Bike Id']\n",
    "end_station_num = end_station_num.rename_axis(index={\"EndStation Id\":\"StartStation Id\"})\n",
    "end_station_num = end_station_num.reindex(new_index).fillna(0).to_frame()\n",
    "\n",
    "end_station_num['day_bf_count_end'] = end_station_num.groupby(level=0).shift()\n",
    "features_df = features_df.merge(end_station_num, how='left', left_index=True, right_on=['StartStation Id', 'Date']).rename(columns={'Bike Id':'count_end'})"
   ]
  },
  {
   "cell_type": "code",
   "execution_count": 36,
   "metadata": {},
   "outputs": [
    {
     "data": {
      "text/html": [
       "<div>\n",
       "<style scoped>\n",
       "    .dataframe tbody tr th:only-of-type {\n",
       "        vertical-align: middle;\n",
       "    }\n",
       "\n",
       "    .dataframe tbody tr th {\n",
       "        vertical-align: top;\n",
       "    }\n",
       "\n",
       "    .dataframe thead th {\n",
       "        text-align: right;\n",
       "    }\n",
       "</style>\n",
       "<table border=\"1\" class=\"dataframe\">\n",
       "  <thead>\n",
       "    <tr style=\"text-align: right;\">\n",
       "      <th></th>\n",
       "      <th></th>\n",
       "      <th>Day</th>\n",
       "      <th>day_code</th>\n",
       "      <th>day_bf_count</th>\n",
       "      <th>day_bf_count_end</th>\n",
       "      <th>7d_rolling_dur</th>\n",
       "      <th>Temperature</th>\n",
       "      <th>Wind Speed</th>\n",
       "      <th>w_cond_Good weather</th>\n",
       "      <th>w_cond_OK weather</th>\n",
       "      <th>w_cond_Bad weather</th>\n",
       "      <th>w_cond_Very bad weather</th>\n",
       "    </tr>\n",
       "    <tr>\n",
       "      <th>StartStation Id</th>\n",
       "      <th>Date</th>\n",
       "      <th></th>\n",
       "      <th></th>\n",
       "      <th></th>\n",
       "      <th></th>\n",
       "      <th></th>\n",
       "      <th></th>\n",
       "      <th></th>\n",
       "      <th></th>\n",
       "      <th></th>\n",
       "      <th></th>\n",
       "      <th></th>\n",
       "    </tr>\n",
       "  </thead>\n",
       "  <tbody>\n",
       "    <tr>\n",
       "      <th rowspan=\"5\" valign=\"top\">1</th>\n",
       "      <th>2019-06-01</th>\n",
       "      <td>5</td>\n",
       "      <td>1</td>\n",
       "      <td>NaN</td>\n",
       "      <td>NaN</td>\n",
       "      <td>NaN</td>\n",
       "      <td>21.812500</td>\n",
       "      <td>15.562500</td>\n",
       "      <td>1.000000</td>\n",
       "      <td>0.000000</td>\n",
       "      <td>0.0</td>\n",
       "      <td>0.0</td>\n",
       "    </tr>\n",
       "    <tr>\n",
       "      <th>2019-06-02</th>\n",
       "      <td>6</td>\n",
       "      <td>0</td>\n",
       "      <td>16.0</td>\n",
       "      <td>14.0</td>\n",
       "      <td>NaN</td>\n",
       "      <td>24.352941</td>\n",
       "      <td>27.588235</td>\n",
       "      <td>1.000000</td>\n",
       "      <td>0.000000</td>\n",
       "      <td>0.0</td>\n",
       "      <td>0.0</td>\n",
       "    </tr>\n",
       "    <tr>\n",
       "      <th>2019-06-03</th>\n",
       "      <td>0</td>\n",
       "      <td>1</td>\n",
       "      <td>34.0</td>\n",
       "      <td>22.0</td>\n",
       "      <td>NaN</td>\n",
       "      <td>17.043478</td>\n",
       "      <td>23.391304</td>\n",
       "      <td>1.000000</td>\n",
       "      <td>0.000000</td>\n",
       "      <td>0.0</td>\n",
       "      <td>0.0</td>\n",
       "    </tr>\n",
       "    <tr>\n",
       "      <th>2019-06-04</th>\n",
       "      <td>1</td>\n",
       "      <td>1</td>\n",
       "      <td>23.0</td>\n",
       "      <td>13.0</td>\n",
       "      <td>NaN</td>\n",
       "      <td>15.677419</td>\n",
       "      <td>12.000000</td>\n",
       "      <td>0.741935</td>\n",
       "      <td>0.258065</td>\n",
       "      <td>0.0</td>\n",
       "      <td>0.0</td>\n",
       "    </tr>\n",
       "    <tr>\n",
       "      <th>2019-06-05</th>\n",
       "      <td>2</td>\n",
       "      <td>1</td>\n",
       "      <td>31.0</td>\n",
       "      <td>13.0</td>\n",
       "      <td>NaN</td>\n",
       "      <td>15.300000</td>\n",
       "      <td>19.650000</td>\n",
       "      <td>1.000000</td>\n",
       "      <td>0.000000</td>\n",
       "      <td>0.0</td>\n",
       "      <td>0.0</td>\n",
       "    </tr>\n",
       "  </tbody>\n",
       "</table>\n",
       "</div>"
      ],
      "text/plain": [
       "                            Day  day_code  day_bf_count  day_bf_count_end  \\\n",
       "StartStation Id Date                                                        \n",
       "1               2019-06-01    5         1           NaN               NaN   \n",
       "                2019-06-02    6         0          16.0              14.0   \n",
       "                2019-06-03    0         1          34.0              22.0   \n",
       "                2019-06-04    1         1          23.0              13.0   \n",
       "                2019-06-05    2         1          31.0              13.0   \n",
       "\n",
       "                            7d_rolling_dur  Temperature  Wind Speed  \\\n",
       "StartStation Id Date                                                  \n",
       "1               2019-06-01             NaN    21.812500   15.562500   \n",
       "                2019-06-02             NaN    24.352941   27.588235   \n",
       "                2019-06-03             NaN    17.043478   23.391304   \n",
       "                2019-06-04             NaN    15.677419   12.000000   \n",
       "                2019-06-05             NaN    15.300000   19.650000   \n",
       "\n",
       "                            w_cond_Good weather  w_cond_OK weather  \\\n",
       "StartStation Id Date                                                 \n",
       "1               2019-06-01             1.000000           0.000000   \n",
       "                2019-06-02             1.000000           0.000000   \n",
       "                2019-06-03             1.000000           0.000000   \n",
       "                2019-06-04             0.741935           0.258065   \n",
       "                2019-06-05             1.000000           0.000000   \n",
       "\n",
       "                            w_cond_Bad weather  w_cond_Very bad weather  \n",
       "StartStation Id Date                                                     \n",
       "1               2019-06-01                 0.0                      0.0  \n",
       "                2019-06-02                 0.0                      0.0  \n",
       "                2019-06-03                 0.0                      0.0  \n",
       "                2019-06-04                 0.0                      0.0  \n",
       "                2019-06-05                 0.0                      0.0  "
      ]
     },
     "execution_count": 36,
     "metadata": {},
     "output_type": "execute_result"
    }
   ],
   "source": [
    "new_col_names = ['Day', 'day_code', 'day_bf_count', 'day_bf_count_end', '7d_rolling_dur', 'Temperature', 'Wind Speed',\n",
    "                'w_cond_Good weather', 'w_cond_OK weather', 'w_cond_Bad weather', 'w_cond_Very bad weather']\n",
    "Y = features_df[['Duration(mins)', 'Count', 'count_end']]\n",
    "features_df = features_df.drop(columns=['Duration(mins)', 'Count', 'count_end']).reindex(columns=new_col_names)\n",
    "\n",
    "features_df.head()"
   ]
  },
  {
   "cell_type": "code",
   "execution_count": 37,
   "metadata": {},
   "outputs": [],
   "source": [
    "features_df.rename(columns={'day_code':'is_weekday', 'Temperature':'temperature', 'Wind Speed':'wind_speed', \n",
    "                           'w_cond_Good weather':'good_weather', 'w_cond_OK weather':'ok_weather',\n",
    "                           'w_cond_Bad weather':'bad_weather', 'w_cond_Very bad weather':'very_bad_weather',\n",
    "                           'Day':'day_no', 'day_bf_count':'start_count_day_bf', 'day_bf_count_end':'end_count_day_bf'},\n",
    "                  inplace=True)"
   ]
  },
  {
   "cell_type": "code",
   "execution_count": 38,
   "metadata": {},
   "outputs": [
    {
     "data": {
      "text/html": [
       "<div>\n",
       "<style scoped>\n",
       "    .dataframe tbody tr th:only-of-type {\n",
       "        vertical-align: middle;\n",
       "    }\n",
       "\n",
       "    .dataframe tbody tr th {\n",
       "        vertical-align: top;\n",
       "    }\n",
       "\n",
       "    .dataframe thead th {\n",
       "        text-align: right;\n",
       "    }\n",
       "</style>\n",
       "<table border=\"1\" class=\"dataframe\">\n",
       "  <thead>\n",
       "    <tr style=\"text-align: right;\">\n",
       "      <th></th>\n",
       "      <th></th>\n",
       "      <th>day_no</th>\n",
       "      <th>is_weekday</th>\n",
       "      <th>start_count_day_bf</th>\n",
       "      <th>end_count_day_bf</th>\n",
       "      <th>7d_rolling_dur</th>\n",
       "      <th>temperature</th>\n",
       "      <th>wind_speed</th>\n",
       "      <th>good_weather</th>\n",
       "      <th>ok_weather</th>\n",
       "      <th>bad_weather</th>\n",
       "      <th>very_bad_weather</th>\n",
       "    </tr>\n",
       "    <tr>\n",
       "      <th>StartStation Id</th>\n",
       "      <th>Date</th>\n",
       "      <th></th>\n",
       "      <th></th>\n",
       "      <th></th>\n",
       "      <th></th>\n",
       "      <th></th>\n",
       "      <th></th>\n",
       "      <th></th>\n",
       "      <th></th>\n",
       "      <th></th>\n",
       "      <th></th>\n",
       "      <th></th>\n",
       "    </tr>\n",
       "  </thead>\n",
       "  <tbody>\n",
       "    <tr>\n",
       "      <th rowspan=\"5\" valign=\"top\">1</th>\n",
       "      <th>2019-06-01</th>\n",
       "      <td>5</td>\n",
       "      <td>1</td>\n",
       "      <td>NaN</td>\n",
       "      <td>NaN</td>\n",
       "      <td>NaN</td>\n",
       "      <td>21.812500</td>\n",
       "      <td>15.562500</td>\n",
       "      <td>1.000000</td>\n",
       "      <td>0.000000</td>\n",
       "      <td>0.0</td>\n",
       "      <td>0.0</td>\n",
       "    </tr>\n",
       "    <tr>\n",
       "      <th>2019-06-02</th>\n",
       "      <td>6</td>\n",
       "      <td>0</td>\n",
       "      <td>16.0</td>\n",
       "      <td>14.0</td>\n",
       "      <td>NaN</td>\n",
       "      <td>24.352941</td>\n",
       "      <td>27.588235</td>\n",
       "      <td>1.000000</td>\n",
       "      <td>0.000000</td>\n",
       "      <td>0.0</td>\n",
       "      <td>0.0</td>\n",
       "    </tr>\n",
       "    <tr>\n",
       "      <th>2019-06-03</th>\n",
       "      <td>0</td>\n",
       "      <td>1</td>\n",
       "      <td>34.0</td>\n",
       "      <td>22.0</td>\n",
       "      <td>NaN</td>\n",
       "      <td>17.043478</td>\n",
       "      <td>23.391304</td>\n",
       "      <td>1.000000</td>\n",
       "      <td>0.000000</td>\n",
       "      <td>0.0</td>\n",
       "      <td>0.0</td>\n",
       "    </tr>\n",
       "    <tr>\n",
       "      <th>2019-06-04</th>\n",
       "      <td>1</td>\n",
       "      <td>1</td>\n",
       "      <td>23.0</td>\n",
       "      <td>13.0</td>\n",
       "      <td>NaN</td>\n",
       "      <td>15.677419</td>\n",
       "      <td>12.000000</td>\n",
       "      <td>0.741935</td>\n",
       "      <td>0.258065</td>\n",
       "      <td>0.0</td>\n",
       "      <td>0.0</td>\n",
       "    </tr>\n",
       "    <tr>\n",
       "      <th>2019-06-05</th>\n",
       "      <td>2</td>\n",
       "      <td>1</td>\n",
       "      <td>31.0</td>\n",
       "      <td>13.0</td>\n",
       "      <td>NaN</td>\n",
       "      <td>15.300000</td>\n",
       "      <td>19.650000</td>\n",
       "      <td>1.000000</td>\n",
       "      <td>0.000000</td>\n",
       "      <td>0.0</td>\n",
       "      <td>0.0</td>\n",
       "    </tr>\n",
       "  </tbody>\n",
       "</table>\n",
       "</div>"
      ],
      "text/plain": [
       "                            day_no  is_weekday  start_count_day_bf  \\\n",
       "StartStation Id Date                                                 \n",
       "1               2019-06-01       5           1                 NaN   \n",
       "                2019-06-02       6           0                16.0   \n",
       "                2019-06-03       0           1                34.0   \n",
       "                2019-06-04       1           1                23.0   \n",
       "                2019-06-05       2           1                31.0   \n",
       "\n",
       "                            end_count_day_bf  7d_rolling_dur  temperature  \\\n",
       "StartStation Id Date                                                        \n",
       "1               2019-06-01               NaN             NaN    21.812500   \n",
       "                2019-06-02              14.0             NaN    24.352941   \n",
       "                2019-06-03              22.0             NaN    17.043478   \n",
       "                2019-06-04              13.0             NaN    15.677419   \n",
       "                2019-06-05              13.0             NaN    15.300000   \n",
       "\n",
       "                            wind_speed  good_weather  ok_weather  bad_weather  \\\n",
       "StartStation Id Date                                                            \n",
       "1               2019-06-01   15.562500      1.000000    0.000000          0.0   \n",
       "                2019-06-02   27.588235      1.000000    0.000000          0.0   \n",
       "                2019-06-03   23.391304      1.000000    0.000000          0.0   \n",
       "                2019-06-04   12.000000      0.741935    0.258065          0.0   \n",
       "                2019-06-05   19.650000      1.000000    0.000000          0.0   \n",
       "\n",
       "                            very_bad_weather  \n",
       "StartStation Id Date                          \n",
       "1               2019-06-01               0.0  \n",
       "                2019-06-02               0.0  \n",
       "                2019-06-03               0.0  \n",
       "                2019-06-04               0.0  \n",
       "                2019-06-05               0.0  "
      ]
     },
     "execution_count": 38,
     "metadata": {},
     "output_type": "execute_result"
    }
   ],
   "source": [
    "features_df.head()"
   ]
  },
  {
   "cell_type": "markdown",
   "metadata": {},
   "source": [
    "### Part 4: Statistical Analysis"
   ]
  },
  {
   "cell_type": "code",
   "execution_count": 3,
   "metadata": {},
   "outputs": [],
   "source": [
    "import pymc3 as pm\n",
    "import theano.tensor as tt\n",
    "from matplotlib import pyplot as plt\n",
    "import matplotlib.dates as mdates"
   ]
  },
  {
   "cell_type": "markdown",
   "metadata": {},
   "source": [
    "<b><div class=\"alert alert-block alert-info\">Q1. How does the frequency of hiring bikes change in a day?</div>"
   ]
  },
  {
   "cell_type": "code",
   "execution_count": 6,
   "metadata": {},
   "outputs": [
    {
     "data": {
      "image/png": "[encoded data removed]",
      "text/plain": [
       "<Figure size 432x288 with 1 Axes>"
      ]
     },
     "metadata": {
      "needs_background": "light"
     },
     "output_type": "display_data"
    }
   ],
   "source": [
    "count_data = cycle_df.groupby(['Date', 'hour']).count()['Bike Id'].groupby('hour').mean()\n",
    "plt.bar(count_data.index, count_data.values)\n",
    "plt.xlabel('Hour of day')\n",
    "plt.ylabel('Number of rides')\n",
    "plt.show()"
   ]
  },
  {
   "cell_type": "code",
   "execution_count": 32,
   "metadata": {},
   "outputs": [],
   "source": [
    "count_data = count_data.loc[0:19]\n",
    "\n",
    "with pm.Model() as model:\n",
    "    alpha = 1.0/count_data.values.mean()\n",
    "    lambda_1 = pm.Exponential(\"lambda_1\", alpha)\n",
    "    lambda_2 = pm.Exponential(\"lambda_2\", alpha)\n",
    "    lambda_3 = pm.Exponential(\"lambda_3\", alpha)\n",
    "    \n",
    "    tau_1 = pm.DiscreteUniform(\"tau_1\", lower=0, upper=len(count_data) - 1)\n",
    "    tau_2 = pm.DiscreteUniform(\"tau_2\", lower=tau_1, upper=len(count_data) - 1)\n",
    "    \n",
    "    idx = np.arange(len(count_data)) \n",
    "    lambda_ = pm.math.switch(tau_2 > idx, pm.math.switch(tau_1 > idx, lambda_1, lambda_2), lambda_3)\n",
    "    \n",
    "    observation = pm.Poisson(\"obs\", lambda_, observed=count_data.values)"
   ]
  },
  {
   "cell_type": "code",
   "execution_count": 33,
   "metadata": {},
   "outputs": [
    {
     "name": "stderr",
     "output_type": "stream",
     "text": [
      "Multiprocess sampling (4 chains in 4 jobs)\n",
      "CompoundStep\n",
      ">Metropolis: [tau_2]\n",
      ">Metropolis: [tau_1]\n",
      ">Metropolis: [lambda_3]\n",
      ">Metropolis: [lambda_2]\n",
      ">Metropolis: [lambda_1]\n",
      "Sampling 4 chains: 100%|████████████| 60000/60000 [00:36<00:00, 1648.91draws/s]\n",
      "The number of effective samples is smaller than 25% for some parameters.\n"
     ]
    }
   ],
   "source": [
    "with model:\n",
    "    step = pm.Metropolis()\n",
    "    trace = pm.sample(10000, tune=5000,step=step)\n",
    "\n",
    "lambda_1_samples = trace['lambda_1']\n",
    "lambda_2_samples = trace['lambda_2']\n",
    "lambda_3_samples = trace['lambda_3']\n",
    "tau_samples = trace['tau_1']\n",
    "tau_2_samples = trace['tau_2']"
   ]
  },
  {
   "cell_type": "code",
   "execution_count": 36,
   "metadata": {},
   "outputs": [
    {
     "data": {
      "image/png": "[encoded data removed]",
      "text/plain": [
       "<Figure size 864x432 with 3 Axes>"
      ]
     },
     "metadata": {
      "needs_background": "light"
     },
     "output_type": "display_data"
    }
   ],
   "source": [
    "def plot_tau_dist(lambda_1, lambda_2, tau, n_tau, xlim, fig_size=(12, 6)):\n",
    "    \n",
    "    plt.figure(figsize=fig_size)\n",
    "    ax = plt.subplot(311)\n",
    "    plt.hist(lambda_1, bins=30, alpha=0.85,\n",
    "             label=\"posterior of $\\lambda_1$\", color=\"#A60628\", density=True)\n",
    "    plt.legend(loc=\"upper left\")\n",
    "    plt.title(r\"\"\"Posterior distributions of the variables\n",
    "    $\\lambda_1,\\;\\lambda_2,\\;\\tau$\"\"\")\n",
    "    plt.xlabel(\"$\\lambda_1$ value\")\n",
    "    plt.xlim(xlim)\n",
    "\n",
    "    ax = plt.subplot(312)\n",
    "    plt.hist(lambda_2, bins=30, alpha=0.85,\n",
    "             label=\"posterior of $\\lambda_2$\", color=\"#7A68A6\", density=True)\n",
    "    plt.legend(loc=\"upper left\")\n",
    "    plt.xlabel(\"$\\lambda_2$ value\")\n",
    "    plt.xlim(xlim)\n",
    "\n",
    "    plt.subplot(313)\n",
    "    w = 1.0 / tau.shape[0] * np.ones_like(tau)\n",
    "    plt.hist(tau, bins=n_tau, alpha=1,\n",
    "             label=r\"posterior of $\\tau$\",\n",
    "             color=\"#467821\", weights=w, rwidth=2.)\n",
    "    plt.xticks(np.arange(n_tau))\n",
    "\n",
    "    plt.legend(loc=\"upper left\")\n",
    "    plt.xlabel(r\"$\\tau$\")\n",
    "    plt.ylabel(\"probability\")\n",
    "\n",
    "plot_tau_dist(lambda_1_samples, lambda_2_samples, tau_samples, len(count_data), [0, 3500])"
   ]
  },
  {
   "cell_type": "code",
   "execution_count": 37,
   "metadata": {},
   "outputs": [
    {
     "data": {
      "image/png": "[encoded data removed]",
      "text/plain": [
       "<Figure size 864x432 with 3 Axes>"
      ]
     },
     "metadata": {
      "needs_background": "light"
     },
     "output_type": "display_data"
    }
   ],
   "source": [
    "plot_tau_dist(lambda_2_samples, lambda_3_samples, tau_2_samples, len(count_data), [0, 3500])"
   ]
  },
  {
   "cell_type": "markdown",
   "metadata": {},
   "source": [
    "<b>The model shows that there is a close to 100% probability that the ride count changes at 7am and  at 5pm. The posterior distributions of the 2 $\\lambda$s are very distinct indicating there is a significant change in ridership after 7am and after 5pm with the mean of $\\lambda_1$ at around 250, the mean of $\\lambda_2$ close to 2000 and the mean of $\\lambda_3$ close to 3000."
   ]
  },
  {
   "cell_type": "markdown",
   "metadata": {},
   "source": [
    "<b><div class=\"alert alert-block alert-info\">Q2. Did the frequency of bike hiring change during significantly during this time period?</div>"
   ]
  },
  {
   "cell_type": "code",
   "execution_count": 110,
   "metadata": {},
   "outputs": [
    {
     "data": {
      "image/png": "[encoded data removed]",
      "text/plain": [
       "<Figure size 864x432 with 1 Axes>"
      ]
     },
     "metadata": {
      "needs_background": "light"
     },
     "output_type": "display_data"
    }
   ],
   "source": [
    "count_data = cycle_df.groupby(['Date']).count()['Bike Id']/100\n",
    "plt.figure(figsize=(12,6))\n",
    "plt.bar(count_data.index, count_data.values)\n",
    "plt.format_xdata = mdates.DateFormatter('%Y-%m-%d')\n",
    "plt.xlabel('Day')\n",
    "plt.ylabel('Number of rides(hundreds)')\n",
    "plt.show()"
   ]
  },
  {
   "cell_type": "code",
   "execution_count": 111,
   "metadata": {},
   "outputs": [
    {
     "name": "stderr",
     "output_type": "stream",
     "text": [
      "Multiprocess sampling (4 chains in 4 jobs)\n",
      "CompoundStep\n",
      ">Metropolis: [tau]\n",
      ">Metropolis: [lambda_2]\n",
      ">Metropolis: [lambda_1]\n",
      "Sampling 4 chains: 100%|████████████| 60000/60000 [00:29<00:00, 2011.15draws/s]\n",
      "The gelman-rubin statistic is larger than 1.4 for some parameters. The sampler did not converge.\n",
      "The estimated number of effective samples is smaller than 200 for some parameters.\n"
     ]
    }
   ],
   "source": [
    "with pm.Model() as model:\n",
    "    alpha = 1.0/count_data.values.mean()\n",
    "    lambda_1 = pm.Exponential(\"lambda_1\", alpha)\n",
    "    lambda_2 = pm.Exponential(\"lambda_2\", alpha)\n",
    "    \n",
    "    tau = pm.DiscreteUniform(\"tau\", lower=0, upper=len(count_data) - 1)\n",
    "    \n",
    "    idx = np.arange(len(count_data)) \n",
    "    lambda_ = pm.math.switch(tau > idx, lambda_1, lambda_2)\n",
    "    \n",
    "    observation = pm.Poisson(\"obs\", lambda_, observed=count_data.values)\n",
    "\n",
    "with model:\n",
    "    step = pm.Metropolis()\n",
    "    trace = pm.sample(10000, tune=5000,step=step)\n",
    "\n",
    "lambda_1_samples = trace['lambda_1']\n",
    "lambda_2_samples = trace['lambda_2']\n",
    "tau_samples = trace['tau']"
   ]
  },
  {
   "cell_type": "code",
   "execution_count": 112,
   "metadata": {},
   "outputs": [
    {
     "data": {
      "image/png": "[encoded data removed]",
      "text/plain": [
       "<Figure size 1080x432 with 3 Axes>"
      ]
     },
     "metadata": {
      "needs_background": "light"
     },
     "output_type": "display_data"
    }
   ],
   "source": [
    "plot_tau_dist(lambda_1_samples, lambda_2_samples, tau_samples, len(count_data), [0, 400], (15, 6))\n",
    "plt.xticks(rotation=90)\n",
    "plt.show()"
   ]
  },
  {
   "cell_type": "markdown",
   "metadata": {},
   "source": [
    "<b>The analysis shows no clear evidence of there being a significant change in ride hiring over the period. There is no distinct differences between $\\lambda$s and the sampler did not converge."
   ]
  }
 ],
 "metadata": {
  "kernelspec": {
   "display_name": "Python 3",
   "language": "python",
   "name": "python3"
  },
  "language_info": {
   "codemirror_mode": {
    "name": "ipython",
    "version": 3
   },
   "file_extension": ".py",
   "mimetype": "text/x-python",
   "name": "python",
   "nbconvert_exporter": "python",
   "pygments_lexer": "ipython3",
   "version": "3.7.4"
  }
 },
 "nbformat": 4,
 "nbformat_minor": 4
}
