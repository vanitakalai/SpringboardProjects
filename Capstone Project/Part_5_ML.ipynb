{
 "cells": [
  {
   "cell_type": "markdown",
   "metadata": {},
   "source": [
    "### Part 5: Machine Learning"
   ]
  },
  {
   "cell_type": "code",
   "execution_count": null,
   "metadata": {},
   "outputs": [],
   "source": [
    "#dummy model, linear regression \n",
    "#xgboosting, lightgbm, catboost\n",
    "#ML from University of Washington "
   ]
  },
  {
   "cell_type": "code",
   "execution_count": 199,
   "metadata": {},
   "outputs": [],
   "source": [
    "%matplotlib inline\n",
    "import pandas as pd\n",
    "from matplotlib import pyplot as plt\n",
    "import matplotlib.dates as mdates\n",
    "import sklearn.linear_model as lm\n",
    "from sklearn.metrics import mean_squared_error\n",
    "import numpy as np"
   ]
  },
  {
   "cell_type": "code",
   "execution_count": 178,
   "metadata": {},
   "outputs": [],
   "source": [
    "X = pd.read_csv('data/features.csv', parse_dates = [1], index_col = [0, 1])\n",
    "y = pd.read_csv('data/target.csv', parse_dates = [1], index_col = [0, 1])"
   ]
  },
  {
   "cell_type": "code",
   "execution_count": 179,
   "metadata": {},
   "outputs": [],
   "source": [
    "def mape(y_test, y_pred):\n",
    "    return 1 - np.mean(np.absolute((y_test - y_pred)/y_test))\n",
    "\n",
    "class BenchmarkModel:\n",
    "    def __init__(self):\n",
    "        self.y_pred = None\n",
    "    \n",
    "    def predict(self, X_test):\n",
    "        self.y_pred = X_test['start_count_day_bf']\n",
    "        return self.y_pred\n",
    "    \n",
    "    def score(self, X_test, y_test, scoring_func, plot_residuals=False):\n",
    "        # MAPE-mean absolute percentage error\n",
    "        if self.y_pred == None:\n",
    "            self.y_pred = BenchmarkModel.predict(self, X_test)\n",
    "        \n",
    "        if plot_residuals == True:\n",
    "            residuals = y_test.values.reshape(-1) - self.y_pred.values\n",
    "            plt.plot(np.arange(len(y_test)), residuals, 'o', label='Residuals')\n",
    "            plt.plot(np.arange(len(y_test)), np.zeros(len(y_test)), '--')\n",
    "            plt.legend()\n",
    "            plt.show()\n",
    "\n",
    "        return scoring_func(y_test.values.reshape(-1), self.y_pred.values)"
   ]
  },
  {
   "cell_type": "code",
   "execution_count": 205,
   "metadata": {},
   "outputs": [],
   "source": [
    "from sklearn.model_selection import TimeSeriesSplit\n",
    "\n",
    "\n",
    "scores = []\n",
    "for station in X.index.get_level_values(0).unique():\n",
    "    acc = []\n",
    "    \n",
    "    for _, test_index in TimeSeriesSplit(n_splits=3).split(X.loc[station]):\n",
    "        model = BenchmarkModel()\n",
    "        acc.append(model.score(X.loc[station].iloc[test_index], y.loc[station].iloc[test_index], mean_squared_error))\n",
    "    \n",
    "    scores.append((station, np.mean(acc)))"
   ]
  },
  {
   "cell_type": "code",
   "execution_count": 206,
   "metadata": {},
   "outputs": [
    {
     "data": {
      "image/png": "[encoded data removed]",
      "text/plain": [
       "<Figure size 432x288 with 1 Axes>"
      ]
     },
     "metadata": {
      "needs_background": "light"
     },
     "output_type": "display_data"
    }
   ],
   "source": [
    "plt.scatter(*zip(*scores))\n",
    "plt.xlabel('Staion No.')\n",
    "plt.title('RMSE for each station')\n",
    "plt.show()"
   ]
  },
  {
   "cell_type": "code",
   "execution_count": 241,
   "metadata": {},
   "outputs": [
    {
     "name": "stdout",
     "output_type": "stream",
     "text": [
      "91.61277793340119\n",
      "99.74623724093507\n",
      "74.015414689523\n"
     ]
    }
   ],
   "source": [
    "for train_index, test_index in TimeSeriesSplit(n_splits=3).split(X_1):\n",
    "    reg = lm.Ridge(alpha=1).fit(X_1.iloc[train_index], y_1.iloc[train_index])\n",
    "    pred = reg.predict(X_1.iloc[test_index])\n",
    "    print(mean_squared_error(y_1.iloc[test_index], pred))"
   ]
  },
  {
   "cell_type": "code",
   "execution_count": 247,
   "metadata": {},
   "outputs": [],
   "source": [
    "#just train on whole dataset; predict on log(y)\n",
    "#do simple split- for hyperparameter tuning use TimeSeriesSplit\n",
    "scores_linreg = []\n",
    "coeffs_mean = []\n",
    "for station in X.index.get_level_values(0).unique():\n",
    "    acc_linreg = []\n",
    "    coeffs = []\n",
    "    \n",
    "    for _, test_index in TimeSeriesSplit(n_splits=3).split(X.loc[station]):\n",
    "        model = lm.Ridge(alpha=1).fit(X.loc[station].iloc[train_index], y.loc[station].iloc[train_index])\n",
    "        predicted = model.predict(X.loc[station].iloc[test_index])\n",
    "        acc_linreg.append(mean_squared_error(y.loc[station].iloc[test_index], predicted))\n",
    "        coeffs.append(model.coef_)\n",
    "    \n",
    "    scores_linreg.append((station, np.mean(acc_linreg)))\n",
    "    coeffs_mean.append(np.mean(coeffs, axis=0))"
   ]
  },
  {
   "cell_type": "code",
   "execution_count": 248,
   "metadata": {},
   "outputs": [
    {
     "data": {
      "image/png": "[encoded data removed]",
      "text/plain": [
       "<Figure size 432x288 with 1 Axes>"
      ]
     },
     "metadata": {
      "needs_background": "light"
     },
     "output_type": "display_data"
    }
   ],
   "source": [
    "plt.scatter(*zip(*scores_linreg))\n",
    "plt.xlabel('Staion No.')\n",
    "plt.title('RMSE for each station')\n",
    "plt.show()"
   ]
  },
  {
   "cell_type": "code",
   "execution_count": 266,
   "metadata": {},
   "outputs": [],
   "source": [
    "val_1 = np.array([val for station, val in scores_linreg])\n",
    "val_2 = np.array([val for station, val in scores])"
   ]
  },
  {
   "cell_type": "code",
   "execution_count": 273,
   "metadata": {},
   "outputs": [
    {
     "data": {
      "text/plain": [
       "9"
      ]
     },
     "execution_count": 273,
     "metadata": {},
     "output_type": "execute_result"
    }
   ],
   "source": [
    "(val_1 - val_2) "
   ]
  }
 ],
 "metadata": {
  "kernelspec": {
   "display_name": "Python 3",
   "language": "python",
   "name": "python3"
  },
  "language_info": {
   "codemirror_mode": {
    "name": "ipython",
    "version": 3
   },
   "file_extension": ".py",
   "mimetype": "text/x-python",
   "name": "python",
   "nbconvert_exporter": "python",
   "pygments_lexer": "ipython3",
   "version": "3.7.4"
  }
 },
 "nbformat": 4,
 "nbformat_minor": 4
}
