{
 "cells": [
  {
   "cell_type": "markdown",
   "metadata": {},
   "source": [
    "## Capstone Project 1: Modelling Cycle Hire Network\n",
    "### Part 1: Data Wrangling\n",
    "\n",
    "<b>The first part of the capstone project involves cleaning the data and adding appropriate features that will be useful in creating a model for the cycle hire scheme. Firstly, we need to retrieve the data from the AWS S3 file storage system. Here, we use the package, [`boto3`](https://boto3.amazonaws.com/v1/documentation/api/latest/index.html?id=docs_gateway) to access the files. The function `find_bucket_obj()` retrieves the name of all the files stored in the S3 bucket and the funtion `s3_files_to_df()` reads the files into a string object and then, parses it into a dataframe."
   ]
  },
  {
   "cell_type": "code",
   "execution_count": 1,
   "metadata": {},
   "outputs": [],
   "source": [
    "import logging\n",
    "import boto3\n",
    "import re\n",
    "import pandas as pd\n",
    "import numpy as np\n",
    "from datetime import datetime\n",
    "from io import StringIO\n",
    "from botocore.exceptions import ClientError\n",
    "from aws_keys import ACCESS_KEY, SECRET_KEY\n",
    "\n",
    "\n",
    "def find_bucket_obj(bucket_name, ACCESS_KEY, SECRET_KEY):\n",
    "    \"\"\"find all objects in AWS S3 bucket\"\"\"\n",
    "\n",
    "    s3 = boto3.client('s3', aws_access_key_id=ACCESS_KEY,\n",
    "     aws_secret_access_key=SECRET_KEY)\n",
    "    \n",
    "    try:\n",
    "        response = s3.list_objects_v2(Bucket=bucket_name)\n",
    "    except ClientError as e:\n",
    "    # AllAccessDisabled error == bucket not found\n",
    "        logging.error(e)\n",
    "        return None\n",
    "    \n",
    "    return response\n",
    "\n",
    "\n",
    "def s3_files_to_df(bucket_name, key_names,ACCESS_KEY, SECRET_KEY):\n",
    "    \"\"\"appends S3 files into a dataframe\"\"\"\n",
    "    \n",
    "    s3 = boto3.client('s3', aws_access_key_id=ACCESS_KEY,\n",
    "     aws_secret_access_key=SECRET_KEY)\n",
    "\n",
    "    #quicker way to append files than appending straight into df\n",
    "    cycle_data = StringIO()\n",
    "    headers = StringIO()\n",
    "    for i, key in enumerate(key_names):\n",
    "        file = s3.get_object(Bucket=bucket_name, Key=key)\n",
    "        tmp_str = file['Body'].read().decode('utf-8')\n",
    "        cycle_data.write(tmp_str[112:])      \n",
    "     \n",
    "    headers = tmp_str[:112].split('\\r\\n')[0].split(',') #set column names\n",
    "    data_type = {0:np.int64, 1:np.int64, 2:np.int64, 4:np.int64, 7:np.int64}\n",
    "    dateparser = lambda x: pd.datetime.strptime(x, \"%d/%m/%Y %H:%M\")\n",
    "    \n",
    "    cycle_data.seek(0) #bring string pointer back to 0\n",
    "    df = pd.read_csv(cycle_data, dtype=data_type, parse_dates=[3, 6], date_parser=dateparser, header=None,\n",
    "                names=headers)\n",
    "    \n",
    "    return df\n",
    "\n",
    "\n",
    "bucket_name = 'cycling.data.tfl.gov.uk'\n",
    "\n",
    "response = find_bucket_obj(bucket_name, ACCESS_KEY, SECRET_KEY)\n",
    "    \n",
    "#find files in bucket that are of type csv and under usage-stats folder\n",
    "key_names = (bucket_dict['Key'] for bucket_dict in response['Contents'] \n",
    "                        if re.search(\"\\Ausage-stats.*19.csv\", bucket_dict['Key']))\n",
    "\n",
    "cycle_files_df = s3_files_to_df(bucket_name, key_names, ACCESS_KEY, SECRET_KEY)"
   ]
  },
  {
   "cell_type": "markdown",
   "metadata": {},
   "source": [
    "<b>Now that we have downloaded the files, we first want to check if the dataset is clean and if not, use data wrangling to clean it such that we can use it in our model. The first things to check for are:</b>\n",
    "<ul style=\"list-style-type:circle\">\n",
    "    <li>Null values</li>\n",
    "  <li>Station names are matched with station IDs</li>\n",
    "  <li>Station names are all valid (can be found in the dock locations file)</li>\n",
    "  <li>Durations are all matched</li>\n",
    "  <li>Time Outliers</li>\n",
    "</ul>\n",
    "\n",
    "<b>Depending on the outcome, we can either choose to remove certain data points completely or fill missing/incorrect values based on what information we have. \n",
    "</b>"
   ]
  },
  {
   "cell_type": "code",
   "execution_count": 26,
   "metadata": {},
   "outputs": [
    {
     "name": "stdout",
     "output_type": "stream",
     "text": [
      "<class 'pandas.core.frame.DataFrame'>\n",
      "Int64Index: 3032277 entries, 4066853 to 7005695\n",
      "Data columns (total 9 columns):\n",
      "Rental Id            int64\n",
      "Duration             int64\n",
      "Bike Id              int64\n",
      "End Date             datetime64[ns]\n",
      "EndStation Id        int64\n",
      "EndStation Name      object\n",
      "Start Date           datetime64[ns]\n",
      "StartStation Id      int64\n",
      "StartStation Name    object\n",
      "dtypes: datetime64[ns](2), int64(5), object(2)\n",
      "memory usage: 231.3+ MB\n"
     ]
    }
   ],
   "source": [
    "cycle_files_df = cycle_files_df[cycle_files_df['Start Date'] >= datetime.strptime('01/06/19', '%d/%m/%y')]\n",
    "cycle_df = cycle_files_df.sort_values(by=['Start Date'])\n",
    "cycle_df.info()"
   ]
  },
  {
   "cell_type": "code",
   "execution_count": 27,
   "metadata": {},
   "outputs": [
    {
     "name": "stdout",
     "output_type": "stream",
     "text": [
      "The dataset runs from 01/06/2019 to 27/08/2019 which is 87 days.\n"
     ]
    }
   ],
   "source": [
    "diff = cycle_df['Start Date'].max() - cycle_df['Start Date'].min()\n",
    "print('The dataset runs from ' + cycle_df['Start Date'].min().strftime('%d/%m/%Y') + ' to '\n",
    "         + cycle_df['Start Date'].max().strftime('%d/%m/%Y') + ' which is ' + str(diff.days) + ' days.')\n"
   ]
  },
  {
   "cell_type": "markdown",
   "metadata": {},
   "source": [
    "<b>The dataframe infromation tells us that all the columns are of the desired data type. This is because we have correctly parsed the dates within the `read_csv()` function. Moreover, we can see that there are no null values which is great! Let's now check if all the station names are valid and remove datapoints with invalid station name Then, we will check if the station names and IDs are matched<b>"
   ]
  },
  {
   "cell_type": "code",
   "execution_count": 28,
   "metadata": {},
   "outputs": [
    {
     "name": "stdout",
     "output_type": "stream",
     "text": [
      "We have removed 51,960 entries which is 1.5% of entries\n"
     ]
    }
   ],
   "source": [
    "# import file containing locaitons of all docks\n",
    "location_df = pd.read_csv(\"data/cycle_dock_locations.csv\")\n",
    "\n",
    "# drop invalid station names\n",
    "cycle_df = cycle_df.drop(cycle_df[~cycle_df['StartStation Id'].isin(location_df['id'])].index)\n",
    "cycle_df = cycle_df.drop(cycle_df[~cycle_df['EndStation Id'].isin(location_df['id'])].index)\n",
    "\n",
    "del_no = -len(cycle_df) + 3032277\n",
    "print('We have removed {0:,} entries which is {1:.1f}% of entries'.format(del_no, (del_no/3379793)*100))"
   ]
  },
  {
   "cell_type": "code",
   "execution_count": 29,
   "metadata": {},
   "outputs": [
    {
     "data": {
      "text/html": [
       "<div>\n",
       "<style scoped>\n",
       "    .dataframe tbody tr th:only-of-type {\n",
       "        vertical-align: middle;\n",
       "    }\n",
       "\n",
       "    .dataframe tbody tr th {\n",
       "        vertical-align: top;\n",
       "    }\n",
       "\n",
       "    .dataframe thead th {\n",
       "        text-align: right;\n",
       "    }\n",
       "</style>\n",
       "<table border=\"1\" class=\"dataframe\">\n",
       "  <thead>\n",
       "    <tr style=\"text-align: right;\">\n",
       "      <th></th>\n",
       "      <th>StartStation Id</th>\n",
       "      <th>StartStation Name</th>\n",
       "      <th>name</th>\n",
       "    </tr>\n",
       "  </thead>\n",
       "  <tbody>\n",
       "    <tr>\n",
       "      <th>4014729</th>\n",
       "      <td>553</td>\n",
       "      <td>Regent's Row , Haggerston</td>\n",
       "      <td>Regent's Row , Haggerston</td>\n",
       "    </tr>\n",
       "    <tr>\n",
       "      <th>4084466</th>\n",
       "      <td>832</td>\n",
       "      <td>Ferndale Road, Brixton.</td>\n",
       "      <td>Ferndale Road, Brixton</td>\n",
       "    </tr>\n",
       "    <tr>\n",
       "      <th>4224504</th>\n",
       "      <td>463</td>\n",
       "      <td>Thurtle road, Haggerston</td>\n",
       "      <td>Thurtle Road, Haggerston</td>\n",
       "    </tr>\n",
       "    <tr>\n",
       "      <th>4333723</th>\n",
       "      <td>725</td>\n",
       "      <td>Thessaly Road North, Wandsworth Road</td>\n",
       "      <td>Walworth Square, Walworth</td>\n",
       "    </tr>\n",
       "  </tbody>\n",
       "</table>\n",
       "</div>"
      ],
      "text/plain": [
       "         StartStation Id                     StartStation Name  \\\n",
       "4014729              553            Regent's Row , Haggerston    \n",
       "4084466              832              Ferndale Road, Brixton.    \n",
       "4224504              463              Thurtle road, Haggerston   \n",
       "4333723              725  Thessaly Road North, Wandsworth Road   \n",
       "\n",
       "                              name  \n",
       "4014729  Regent's Row , Haggerston  \n",
       "4084466     Ferndale Road, Brixton  \n",
       "4224504   Thurtle Road, Haggerston  \n",
       "4333723  Walworth Square, Walworth  "
      ]
     },
     "execution_count": 29,
     "metadata": {},
     "output_type": "execute_result"
    }
   ],
   "source": [
    "# check station names and IDs are matched\n",
    "location_df = location_df.set_index('id')\n",
    "df = cycle_df[['StartStation Id', 'StartStation Name']].merge(location_df['name'], \n",
    "                                how='left', left_on='StartStation Id', right_index=True)\n",
    "\n",
    "map_names = df[df['StartStation Name'] != df['name']].drop_duplicates()\n",
    "map_names"
   ]
  },
  {
   "cell_type": "markdown",
   "metadata": {},
   "source": [
    "<b>We see 4 names that have issues with matching the actual name. The first 3 are still correct information but get flagged due to character differences. The last one is a completely different entry which we will drop given we have no additional information on how to reconcile the difference. </b>"
   ]
  },
  {
   "cell_type": "code",
   "execution_count": 30,
   "metadata": {},
   "outputs": [
    {
     "name": "stdout",
     "output_type": "stream",
     "text": [
      "Success. All names match to ID\n"
     ]
    }
   ],
   "source": [
    "# map station names from location file to cycle hire data file and replace with correct name or remove if name non-existent\n",
    "map_names = map_names[['StartStation Name', 'name']].set_index('StartStation Name')['name'].to_dict()\n",
    "map_names['Thessaly Road North, Wandsworth Road'] = np.nan\n",
    "\n",
    "cycle_df['StartStation Name'] = cycle_files_df['StartStation Name'].replace(map_names)\n",
    "cycle_df = cycle_df.dropna()\n",
    "\n",
    "df = cycle_df[['StartStation Id', 'StartStation Name']].merge(location_df['name'], \n",
    "                                how='left', left_on='StartStation Id', right_index=True)\n",
    "\n",
    "if(df[df['StartStation Name'] != df['name']].empty):\n",
    "    print('Success. All names match to ID')"
   ]
  },
  {
   "cell_type": "markdown",
   "metadata": {},
   "source": [
    "<b>Now that we have sorted out the station names and IDs, we can check if the data has any outliers. This would be signified either by a ride with a very high duration or with a ride with no duration. We also need to make sure that the duration has been computed correctly."
   ]
  },
  {
   "cell_type": "code",
   "execution_count": 31,
   "metadata": {},
   "outputs": [
    {
     "name": "stdout",
     "output_type": "stream",
     "text": [
      "0 rides have no duration\n"
     ]
    }
   ],
   "source": [
    "print('{} rides have no duration'.format(len(cycle_df[cycle_df['Duration'] == 0])))"
   ]
  },
  {
   "cell_type": "code",
   "execution_count": 32,
   "metadata": {},
   "outputs": [
    {
     "name": "stdout",
     "output_type": "stream",
     "text": [
      "Durations are all matched\n"
     ]
    }
   ],
   "source": [
    "#check if timedelta between start and end matches duration\n",
    "check_duration = round((cycle_df['End Date'] - cycle_df['Start Date']).dt.total_seconds())\n",
    "check_duration = check_duration.apply(lambda x: int(x))\n",
    "print('Durations are all matched') if check_duration.equals(cycle_df['Duration']) else print(\"Durations don't match\")"
   ]
  },
  {
   "cell_type": "code",
   "execution_count": 33,
   "metadata": {},
   "outputs": [
    {
     "name": "stdout",
     "output_type": "stream",
     "text": [
      "Avg time of rides was 22 mins\n",
      "Max time of a ride was 9024 mins\n",
      "Min time of a ride was 1 min\n",
      "Std deviation between rides was 68 mins\n",
      "807 rides over the period lasted more than one day\n"
     ]
    }
   ],
   "source": [
    "# print some statistics about duration\n",
    "cycle_df['Duration(mins)'] = cycle_df['Duration'].apply(lambda x: x/60)\n",
    "print('Avg time of rides was {:.0f} mins'.format(cycle_df['Duration(mins)'].mean()))\n",
    "print('Max time of a ride was {:.0f} mins'.format(cycle_df['Duration(mins)'].max()))\n",
    "print('Min time of a ride was {:.0f} min'.format(cycle_df['Duration(mins)'].min()))\n",
    "print('Std deviation between rides was {:.0f} mins'.format(cycle_df['Duration(mins)'].std()))\n",
    "print('{} rides over the period lasted more than one day'.format(cycle_df[cycle_df['Duration(mins)'] > (24*60)]['Rental Id'].count()))"
   ]
  },
  {
   "cell_type": "code",
   "execution_count": 34,
   "metadata": {},
   "outputs": [
    {
     "data": {
      "text/plain": [
       "<Figure size 1200x300 with 2 Axes>"
      ]
     },
     "metadata": {},
     "output_type": "display_data"
    }
   ],
   "source": [
    "import matplotlib.pyplot as plt\n",
    "import seaborn as sns\n",
    "\n",
    "plt.figure(figsize=(12, 3))\n",
    "plt.subplot(121)\n",
    "plt.xlim(right=50)\n",
    "sns.distplot(cycle_df['Duration(mins)'], bins=1000)\n",
    "\n",
    "plt.subplot(122)\n",
    "plt.ylim(top=20)\n",
    "sns.boxplot(y='Duration', data=cycle_df.groupby('Duration(mins)').count())\n",
    "\n",
    "plt.show()"
   ]
  },
  {
   "cell_type": "markdown",
   "metadata": {},
   "source": [
    "<b>There are quite a few rides that lasted over a day with the longest one being almost 6 days. This is most likely a result of forgetting to return the bikes or forgetting to dock them regularly throughout the trip. We will leave these outliers in the dataset as this affects the availability of bike at dock stations. It's also obvious from the boxplots that the most ride durations are concentrated below 10 minutes.</b>\n",
    "\n",
    "<b>Now that we have filtered out unwanted rows, let's clean up the dataset by removing unwanted rows and reorganizing the columns.</b>"
   ]
  },
  {
   "cell_type": "code",
   "execution_count": 35,
   "metadata": {},
   "outputs": [
    {
     "data": {
      "text/html": [
       "<div>\n",
       "<style scoped>\n",
       "    .dataframe tbody tr th:only-of-type {\n",
       "        vertical-align: middle;\n",
       "    }\n",
       "\n",
       "    .dataframe tbody tr th {\n",
       "        vertical-align: top;\n",
       "    }\n",
       "\n",
       "    .dataframe thead th {\n",
       "        text-align: right;\n",
       "    }\n",
       "</style>\n",
       "<table border=\"1\" class=\"dataframe\">\n",
       "  <thead>\n",
       "    <tr style=\"text-align: right;\">\n",
       "      <th></th>\n",
       "      <th>Start Date</th>\n",
       "      <th>StartStation Name</th>\n",
       "      <th>End Date</th>\n",
       "      <th>EndStation Name</th>\n",
       "      <th>Duration(mins)</th>\n",
       "      <th>Bike Id</th>\n",
       "      <th>StartStation Id</th>\n",
       "      <th>EndStation Id</th>\n",
       "    </tr>\n",
       "  </thead>\n",
       "  <tbody>\n",
       "    <tr>\n",
       "      <th>0</th>\n",
       "      <td>2019-06-01</td>\n",
       "      <td>Westminster University, Marylebone</td>\n",
       "      <td>2019-06-01 00:07:00</td>\n",
       "      <td>St. John's Wood Church, The Regent's Park</td>\n",
       "      <td>7.0</td>\n",
       "      <td>13485</td>\n",
       "      <td>257</td>\n",
       "      <td>247</td>\n",
       "    </tr>\n",
       "    <tr>\n",
       "      <th>1</th>\n",
       "      <td>2019-06-01</td>\n",
       "      <td>Upcerne Road, West Chelsea</td>\n",
       "      <td>2019-06-01 00:01:00</td>\n",
       "      <td>Upcerne Road, West Chelsea</td>\n",
       "      <td>1.0</td>\n",
       "      <td>14376</td>\n",
       "      <td>745</td>\n",
       "      <td>745</td>\n",
       "    </tr>\n",
       "    <tr>\n",
       "      <th>2</th>\n",
       "      <td>2019-06-01</td>\n",
       "      <td>Mile End Stadium, Mile End</td>\n",
       "      <td>2019-06-01 00:19:00</td>\n",
       "      <td>Mile End Park Leisure Centre, Mile End</td>\n",
       "      <td>19.0</td>\n",
       "      <td>10693</td>\n",
       "      <td>712</td>\n",
       "      <td>763</td>\n",
       "    </tr>\n",
       "    <tr>\n",
       "      <th>3</th>\n",
       "      <td>2019-06-01</td>\n",
       "      <td>Bethnal Green Road, Shoreditch</td>\n",
       "      <td>2019-06-01 00:10:00</td>\n",
       "      <td>Curlew Street, Shad Thames</td>\n",
       "      <td>10.0</td>\n",
       "      <td>7390</td>\n",
       "      <td>132</td>\n",
       "      <td>298</td>\n",
       "    </tr>\n",
       "    <tr>\n",
       "      <th>4</th>\n",
       "      <td>2019-06-01</td>\n",
       "      <td>Mile End Stadium, Mile End</td>\n",
       "      <td>2019-06-01 00:19:00</td>\n",
       "      <td>Mile End Park Leisure Centre, Mile End</td>\n",
       "      <td>19.0</td>\n",
       "      <td>11332</td>\n",
       "      <td>712</td>\n",
       "      <td>763</td>\n",
       "    </tr>\n",
       "  </tbody>\n",
       "</table>\n",
       "</div>"
      ],
      "text/plain": [
       "  Start Date                   StartStation Name            End Date  \\\n",
       "0 2019-06-01  Westminster University, Marylebone 2019-06-01 00:07:00   \n",
       "1 2019-06-01          Upcerne Road, West Chelsea 2019-06-01 00:01:00   \n",
       "2 2019-06-01          Mile End Stadium, Mile End 2019-06-01 00:19:00   \n",
       "3 2019-06-01      Bethnal Green Road, Shoreditch 2019-06-01 00:10:00   \n",
       "4 2019-06-01          Mile End Stadium, Mile End 2019-06-01 00:19:00   \n",
       "\n",
       "                             EndStation Name  Duration(mins)  Bike Id  \\\n",
       "0  St. John's Wood Church, The Regent's Park             7.0    13485   \n",
       "1                 Upcerne Road, West Chelsea             1.0    14376   \n",
       "2     Mile End Park Leisure Centre, Mile End            19.0    10693   \n",
       "3                 Curlew Street, Shad Thames            10.0     7390   \n",
       "4     Mile End Park Leisure Centre, Mile End            19.0    11332   \n",
       "\n",
       "   StartStation Id  EndStation Id  \n",
       "0              257            247  \n",
       "1              745            745  \n",
       "2              712            763  \n",
       "3              132            298  \n",
       "4              712            763  "
      ]
     },
     "execution_count": 35,
     "metadata": {},
     "output_type": "execute_result"
    }
   ],
   "source": [
    "new_cols = ['Start Date', 'StartStation Name', 'End Date', 'EndStation Name', 'Duration(mins)',\n",
    "               'Bike Id', 'StartStation Id', 'EndStation Id']\n",
    "cycle_df_clean = cycle_df.drop(columns=['Rental Id', 'Duration'])\n",
    "cycle_df_clean = cycle_df_clean[new_cols].reset_index(drop=True)\n",
    "cycle_df_clean.head()"
   ]
  },
  {
   "cell_type": "markdown",
   "metadata": {},
   "source": [
    "<b>The second stage of data wrangling is to improve the usefulness of the data. We can add more features to our dataset that might be helpful in modelling demand and availability. The obvious factors in hiring a bike are:\n",
    "\n",
    "<ul style=\"list-style-type:circle\">\n",
    "   <li>Type of day</li>\n",
    "  <li>Weather</li>\n",
    "</ul>\n"
   ]
  },
  {
   "cell_type": "code",
   "execution_count": 36,
   "metadata": {},
   "outputs": [
    {
     "data": {
      "image/png": "[encoded data removed]",
      "text/plain": [
       "<Figure size 432x288 with 2 Axes>"
      ]
     },
     "metadata": {
      "needs_background": "light"
     },
     "output_type": "display_data"
    }
   ],
   "source": [
    "def plot_trip_data(x, y1, y2, xlabel, ylabel='No. of trips'):\n",
    "    \"\"\"plots count and mean data for trips\"\"\"\n",
    "    \n",
    "    fig, ax1 = plt.subplots()\n",
    "\n",
    "    ax1.set_xlabel(xlabel)\n",
    "    ax1.set_ylabel(ylabel)\n",
    "    ax1.bar(x, y1)\n",
    "\n",
    "    ax2 = ax1.twinx()\n",
    "\n",
    "    ax2.set_xlabel(xlabel)\n",
    "    ax2.set_ylabel('Avg time per ride (mins)')\n",
    "    ax2.plot(x, y2,\n",
    "             color = 'red')\n",
    "\n",
    "    fig.tight_layout() \n",
    "    plt.show()\n",
    "    \n",
    "\n",
    "#plotting number of rides and average time of rides on each weekday \n",
    "cycle_df_clean['Day'] = cycle_df_clean['Start Date'].dt.weekday    \n",
    "group_by_day = cycle_df_clean.groupby('Day')\n",
    "day_index = ['Mon','Tue','Wed', 'Thur', 'Fri', 'Sat', 'Sun']\n",
    "plot_trip_data(day_index, group_by_day.count()['Duration(mins)'], \n",
    "               group_by_day.mean()['Duration(mins)'], 'Day')"
   ]
  },
  {
   "cell_type": "code",
   "execution_count": 37,
   "metadata": {},
   "outputs": [
    {
     "data": {
      "image/png": "[encoded data removed]",
      "text/plain": [
       "<Figure size 432x288 with 2 Axes>"
      ]
     },
     "metadata": {
      "needs_background": "light"
     },
     "output_type": "display_data"
    }
   ],
   "source": [
    "#plotting number of rides and average time of rides for each hour of day\n",
    "cycle_df_clean['hour'] = cycle_df_clean['Start Date'].dt.hour\n",
    "groupby_time = cycle_df_clean.groupby('hour')\n",
    "time_index = groupby_time.sum().index\n",
    "\n",
    "plot_trip_data(time_index, groupby_time.count()['Duration(mins)'], \n",
    "               groupby_time.mean()['Duration(mins)'], 'Hour')"
   ]
  },
  {
   "cell_type": "markdown",
   "metadata": {},
   "source": [
    "<b>It is clear that there is high demand for bikes druing the weekend as opposed to a workday. We can add an additional feature that identifies if the day is a holiday(weekend/public holiday) or a workday. We use the package [`holidays`](https://pypi.org/project/holidays/) to get the holidays within the time period."
   ]
  },
  {
   "cell_type": "code",
   "execution_count": 38,
   "metadata": {},
   "outputs": [],
   "source": [
    "import holidays\n",
    "\n",
    "# find holidays in England that match data time window\n",
    "ph = list(filter(lambda x: cycle_df_clean.iloc[0]['Start Date'] <= x <= cycle_df_clean.iloc[-1]['Start Date'],  \n",
    "                 holidays.England(years=2019).keys()))"
   ]
  },
  {
   "cell_type": "code",
   "execution_count": 39,
   "metadata": {},
   "outputs": [],
   "source": [
    "def set_day_code(row, public_hols):\n",
    "    \n",
    "    if row['Start Date'].date() in public_hols:\n",
    "        return 'PH'\n",
    "    elif row['Day'] in [6, 7]:\n",
    "        return 'WD'\n",
    "    else:\n",
    "        return 'W'\n",
    "\n",
    "    \n",
    "# set codes for days based on type of day (weekday=W, weekend=WD, public holiday=PH)\n",
    "cycle_df_clean['day_code'] = cycle_df_clean.apply(lambda x: set_day_code(x, ph), axis=1)"
   ]
  },
  {
   "cell_type": "code",
   "execution_count": 40,
   "metadata": {},
   "outputs": [
    {
     "data": {
      "image/png": "[encoded data removed]",
      "text/plain": [
       "<Figure size 432x288 with 2 Axes>"
      ]
     },
     "metadata": {
      "needs_background": "light"
     },
     "output_type": "display_data"
    }
   ],
   "source": [
    "# plotting avg trip data based on type of day\n",
    "cycle_df_clean['Date'] = cycle_df_clean['Start Date'].dt.date\n",
    "cycle_df_clean = cycle_df_clean.set_index(['Date', 'Start Date'])\n",
    "plot_trip_data(cycle_df_clean.groupby('day_code').count().index, \n",
    "               cycle_df_clean.groupby(['day_code', 'Date']).count().groupby('day_code').mean()['Duration(mins)'], \n",
    "               cycle_df_clean.groupby(['day_code']).mean()['Duration(mins)'], 'Day Code',\n",
    "               ylabel='Avg trips per day')"
   ]
  },
  {
   "cell_type": "markdown",
   "metadata": {},
   "source": [
    "<b>Another feature that affects the demand of cycle hires is weather. We can get weather data from a weather API which gives hourly historical data on temperature, wind speed and weather condition from a weather station located in London Southend Airport. We will use the [`requests`](https://pypi.org/project/requests/2.7.0/) package to pull data from the API and extract the useful information into a dataframe."
   ]
  },
  {
   "cell_type": "code",
   "execution_count": 41,
   "metadata": {},
   "outputs": [],
   "source": [
    "import requests\n",
    "\n",
    "\n",
    "def import_weather_from_api(date):\n",
    "    \n",
    "    api_url = \"https://api.weather.com/v1/location/EGMC:9:GB/observations/historical.json?apiKey=6532d6454b8aa370768e63d6ba5a832e&units=m\"\n",
    "    date_str = '&startDate=' + date + '&endDate=' + date\n",
    "    \n",
    "    try:\n",
    "        response = requests.get(api_url + date_str)\n",
    "    except requests.exceptions.RequestException as e:\n",
    "         return \"Error: {}\".format(e)\n",
    "    \n",
    "    weather = []\n",
    "    for items in response.json()['observations']:\n",
    "        weather.append((datetime.fromtimestamp(items['valid_time_gmt']), items['temp'], \n",
    "                        items['wspd'], items['wx_phrase']))\n",
    "    \n",
    "    df = pd.DataFrame(weather, columns=['Time', 'Temperature', 'Wind Speed', 'Conditions'])\n",
    "    \n",
    "    return df  "
   ]
  },
  {
   "cell_type": "code",
   "execution_count": 42,
   "metadata": {},
   "outputs": [
    {
     "data": {
      "text/html": [
       "<div>\n",
       "<style scoped>\n",
       "    .dataframe tbody tr th:only-of-type {\n",
       "        vertical-align: middle;\n",
       "    }\n",
       "\n",
       "    .dataframe tbody tr th {\n",
       "        vertical-align: top;\n",
       "    }\n",
       "\n",
       "    .dataframe thead th {\n",
       "        text-align: right;\n",
       "    }\n",
       "</style>\n",
       "<table border=\"1\" class=\"dataframe\">\n",
       "  <thead>\n",
       "    <tr style=\"text-align: right;\">\n",
       "      <th></th>\n",
       "      <th>Temperature</th>\n",
       "      <th>Wind Speed</th>\n",
       "      <th>Conditions</th>\n",
       "    </tr>\n",
       "    <tr>\n",
       "      <th>Time</th>\n",
       "      <th></th>\n",
       "      <th></th>\n",
       "      <th></th>\n",
       "    </tr>\n",
       "  </thead>\n",
       "  <tbody>\n",
       "    <tr>\n",
       "      <th>2019-06-01 00:50:00</th>\n",
       "      <td>13.0</td>\n",
       "      <td>17.0</td>\n",
       "      <td>Fair</td>\n",
       "    </tr>\n",
       "    <tr>\n",
       "      <th>2019-06-01 01:50:00</th>\n",
       "      <td>12.0</td>\n",
       "      <td>15.0</td>\n",
       "      <td>Fair</td>\n",
       "    </tr>\n",
       "    <tr>\n",
       "      <th>2019-06-01 02:50:00</th>\n",
       "      <td>12.0</td>\n",
       "      <td>11.0</td>\n",
       "      <td>Fair</td>\n",
       "    </tr>\n",
       "    <tr>\n",
       "      <th>2019-06-01 03:20:00</th>\n",
       "      <td>12.0</td>\n",
       "      <td>6.0</td>\n",
       "      <td>Fair</td>\n",
       "    </tr>\n",
       "    <tr>\n",
       "      <th>2019-06-01 03:50:00</th>\n",
       "      <td>12.0</td>\n",
       "      <td>6.0</td>\n",
       "      <td>Fair</td>\n",
       "    </tr>\n",
       "  </tbody>\n",
       "</table>\n",
       "</div>"
      ],
      "text/plain": [
       "                     Temperature  Wind Speed Conditions\n",
       "Time                                                   \n",
       "2019-06-01 00:50:00         13.0        17.0       Fair\n",
       "2019-06-01 01:50:00         12.0        15.0       Fair\n",
       "2019-06-01 02:50:00         12.0        11.0       Fair\n",
       "2019-06-01 03:20:00         12.0         6.0       Fair\n",
       "2019-06-01 03:50:00         12.0         6.0       Fair"
      ]
     },
     "execution_count": 42,
     "metadata": {},
     "output_type": "execute_result"
    }
   ],
   "source": [
    "# retrieve weather data for date window determined by cycle hire data\n",
    "tmp_df = []\n",
    "for dates in cycle_df_clean.index.get_level_values('Date').unique():\n",
    "    tmp_df.append(import_weather_from_api(dates.strftime('%Y%m%d')))\n",
    "                      \n",
    "weather_df = pd.concat(tmp_df, ignore_index=True).set_index('Time')\n",
    "weather_df.head()"
   ]
  },
  {
   "cell_type": "code",
   "execution_count": 43,
   "metadata": {},
   "outputs": [
    {
     "name": "stdout",
     "output_type": "stream",
     "text": [
      "<class 'pandas.core.frame.DataFrame'>\n",
      "DatetimeIndex: 3790 entries, 2019-06-01 00:50:00 to 2019-08-27 23:50:00\n",
      "Data columns (total 3 columns):\n",
      "Temperature    3789 non-null float64\n",
      "Wind Speed     3788 non-null float64\n",
      "Conditions     3790 non-null object\n",
      "dtypes: float64(2), object(1)\n",
      "memory usage: 118.4+ KB\n",
      "None\n",
      "       Temperature   Wind Speed\n",
      "count  3789.000000  3788.000000\n",
      "mean     17.985220    16.126452\n",
      "std       4.123911    10.010985\n",
      "min       8.000000     0.000000\n",
      "25%      15.000000     9.000000\n",
      "50%      18.000000    15.000000\n",
      "75%      20.000000    20.000000\n",
      "max      35.000000   161.000000\n"
     ]
    }
   ],
   "source": [
    "print(weather_df.info())\n",
    "print(weather_df.describe())"
   ]
  },
  {
   "cell_type": "markdown",
   "metadata": {},
   "source": [
    "<b>We can see from the weather dataframe information and description that there are null values and that the wind speed data could have some outliers. Let's now clean this data!"
   ]
  },
  {
   "cell_type": "code",
   "execution_count": 44,
   "metadata": {},
   "outputs": [
    {
     "name": "stderr",
     "output_type": "stream",
     "text": [
      "C:\\Users\\kc\\Anaconda3\\envs\\Springboard_Projects\\lib\\site-packages\\pandas\\plotting\\_matplotlib\\converter.py:103: FutureWarning: Using an implicitly registered datetime converter for a matplotlib plotting method. The converter was registered by pandas on import. Future versions of pandas will require you to explicitly register matplotlib converters.\n",
      "\n",
      "To register the converters:\n",
      "\t>>> from pandas.plotting import register_matplotlib_converters\n",
      "\t>>> register_matplotlib_converters()\n",
      "  warnings.warn(msg, FutureWarning)\n"
     ]
    },
    {
     "data": {
      "image/png": "[encoded data removed]",
      "text/plain": [
       "<Figure size 720x720 with 4 Axes>"
      ]
     },
     "metadata": {
      "needs_background": "light"
     },
     "output_type": "display_data"
    }
   ],
   "source": [
    "fig, ax = plt.subplots(2, 2, figsize=(10,10))\n",
    "ax1 = sns.boxplot(y=weather_df['Temperature'], ax=ax[0][0])\n",
    "ax2 = sns.boxplot(y=weather_df['Wind Speed'], ax=ax[0][1])\n",
    "ax3 = sns.lineplot(x=weather_df.index, y=weather_df['Temperature'], ax=ax[1][0])\n",
    "ax3.tick_params(labelrotation=90)\n",
    "ax4 = sns.lineplot(x=weather_df.index, y=weather_df['Wind Speed'], ax=ax[1][1])\n",
    "ax4.tick_params(labelrotation=90)\n",
    "fig.tight_layout()\n",
    "plt.show()"
   ]
  },
  {
   "cell_type": "code",
   "execution_count": 45,
   "metadata": {},
   "outputs": [
    {
     "name": "stdout",
     "output_type": "stream",
     "text": [
      "No more null values\n"
     ]
    }
   ],
   "source": [
    "# foward fill na values\n",
    "weather_df = weather_df.fillna(method='ffill')\n",
    "if not weather_df.isnull().any().sum():\n",
    "    print('No more null values')"
   ]
  },
  {
   "cell_type": "code",
   "execution_count": 46,
   "metadata": {},
   "outputs": [
    {
     "name": "stdout",
     "output_type": "stream",
     "text": [
      "\u001b[1mWind speed data showing large changes in speed:\u001b[0m\n",
      "Time\n",
      "2019-06-04 08:50:00    148.0\n",
      "2019-06-18 00:20:00    126.0\n",
      "2019-07-26 04:20:00    161.0\n",
      "Name: Wind Speed, dtype: float64\n",
      "\u001b[1mDifference in speed was:\u001b[0m\n",
      "Time\n",
      "2019-06-04 08:50:00    139.0\n",
      "2019-06-18 00:20:00    111.0\n",
      "2019-07-26 04:20:00    154.0\n",
      "Name: Wind Speed, dtype: float64\n",
      "\u001b[1mWind speed data with values > 50km/h:\u001b[0m\n",
      "                     Temperature  Wind Speed               Conditions\n",
      "Time                                                                 \n",
      "2019-06-04 08:50:00         16.0       148.0             Fair / Windy\n",
      "2019-06-18 00:20:00         13.0       126.0             Fair / Windy\n",
      "2019-07-26 04:20:00         22.0       161.0             Fair / Windy\n",
      "2019-07-26 04:50:00         22.0       161.0             Fair / Windy\n",
      "2019-07-26 05:20:00         22.0       161.0             Fair / Windy\n",
      "2019-08-10 12:20:00         20.0        52.0  Showers in the Vicinity\n",
      "2019-08-10 13:20:00         21.0        52.0    Mostly Cloudy / Windy\n",
      "2019-08-10 13:50:00         21.0        56.0    Mostly Cloudy / Windy\n",
      "2019-08-10 14:20:00         21.0        54.0    Mostly Cloudy / Windy\n",
      "2019-08-10 15:20:00         22.0        56.0    Partly Cloudy / Windy\n",
      "2019-08-10 15:50:00         22.0        54.0    Partly Cloudy / Windy\n",
      "2019-08-10 16:20:00         21.0        52.0    Partly Cloudy / Windy\n",
      "2019-08-10 16:50:00         20.0        52.0    Partly Cloudy / Windy\n"
     ]
    }
   ],
   "source": [
    "# find outliers in wind speed data by seeing if change in data is large or if value is large\n",
    "diff = weather_df['Wind Speed'].diff()\n",
    "print('\\033[1m' + 'Wind speed data showing large changes in speed:' + '\\033[0m')\n",
    "print(weather_df[diff > 20]['Wind Speed'])\n",
    "print('\\033[1m' + 'Difference in speed was:' + '\\033[0m')\n",
    "print(diff[diff > 20])\n",
    "print('\\033[1m' + 'Wind speed data with values > 50km/h:' + '\\033[0m')\n",
    "print(weather_df[weather_df['Wind Speed'] > 50])"
   ]
  },
  {
   "cell_type": "markdown",
   "metadata": {},
   "source": [
    "<b>It is clear that we have 5 data errors in the wind speed data series for the values above 100 km/h. The change in wind speed is too large and wind of that magnitude would have definitely made the news which it didn't. We can fix these data errors using linear interpolation which assumes that the actual value is an average bewteen the prior and post values that are deemed to non erroneous. "
   ]
  },
  {
   "cell_type": "code",
   "execution_count": 47,
   "metadata": {},
   "outputs": [],
   "source": [
    "outliers_idx = weather_df[weather_df['Wind Speed'] > 100].index\n",
    "for i in outliers_idx:\n",
    "    weather_df.loc[i, 'Wind Speed'] =  np.nan\n",
    "    \n",
    "weather_df = weather_df.interpolate()"
   ]
  },
  {
   "cell_type": "markdown",
   "metadata": {},
   "source": [
    "<b>Now that we have cleaned the data, we can add weather as a feature to our data set. However, before we do this, note that the conditions feature has 27 different categories. Features that are defined categorically with many different categories add significant complexity to the model. We should try and reduce this to a manageable set without losing the information and accuracy of the data."
   ]
  },
  {
   "cell_type": "code",
   "execution_count": 48,
   "metadata": {},
   "outputs": [
    {
     "name": "stdout",
     "output_type": "stream",
     "text": [
      "The weather conditions are:\n",
      "0 Fair\n",
      "1 Fair / Windy\n",
      "2 Partly Cloudy\n",
      "3 Rain Shower\n",
      "4 Light Rain Shower\n",
      "5 Showers in the Vicinity\n",
      "6 Light Rain\n",
      "7 Mostly Cloudy\n",
      "8 Mostly Cloudy / Windy\n",
      "9 Light Rain / Windy\n",
      "10 Partly Cloudy / Windy\n",
      "11 Light Rain Shower / Windy\n",
      "12 Rain\n",
      "13 Thunder in the Vicinity\n",
      "14 Light Rain with Thunder\n",
      "15 T-Storm\n",
      "16 Mist\n",
      "17 Heavy T-Storm\n",
      "18 Cloudy\n",
      "19 Shallow Fog\n",
      "20 Light Drizzle\n",
      "21 Thunder\n",
      "22 Heavy Rain Shower / Windy\n",
      "23 T-Storm / Windy\n",
      "24 Patches of Fog\n",
      "25 Fog\n",
      "26 Haze\n"
     ]
    }
   ],
   "source": [
    "print('The weather conditions are:')\n",
    "for i, x in enumerate(weather_df['Conditions'].unique()):\n",
    "    print(i, x)"
   ]
  },
  {
   "cell_type": "markdown",
   "metadata": {},
   "source": [
    "<b>We can reduce it to 4 different categories of weather conditions as such:\n",
    "<ol type=\"1\">\n",
    "  <li>Good weather: 0, 1, 2, 10, 16, 18, 19</li>\n",
    "  <li>OK weather: 4, 5, 7, 8, 11, 13, 20, 24</li>\n",
    "  <li>Bad weather: 3, 6, 9, 12, 14, 21, 25</li>\n",
    "  <li>Very bad weather: 15, 17, 22, 23, 26</li>\n",
    "</ol>\n"
   ]
  },
  {
   "cell_type": "code",
   "execution_count": 49,
   "metadata": {},
   "outputs": [
    {
     "data": {
      "text/html": [
       "<div>\n",
       "<style scoped>\n",
       "    .dataframe tbody tr th:only-of-type {\n",
       "        vertical-align: middle;\n",
       "    }\n",
       "\n",
       "    .dataframe tbody tr th {\n",
       "        vertical-align: top;\n",
       "    }\n",
       "\n",
       "    .dataframe thead th {\n",
       "        text-align: right;\n",
       "    }\n",
       "</style>\n",
       "<table border=\"1\" class=\"dataframe\">\n",
       "  <thead>\n",
       "    <tr style=\"text-align: right;\">\n",
       "      <th></th>\n",
       "      <th>Temperature</th>\n",
       "      <th>Wind Speed</th>\n",
       "      <th>w_cond</th>\n",
       "    </tr>\n",
       "    <tr>\n",
       "      <th>Time</th>\n",
       "      <th></th>\n",
       "      <th></th>\n",
       "      <th></th>\n",
       "    </tr>\n",
       "  </thead>\n",
       "  <tbody>\n",
       "    <tr>\n",
       "      <th>2019-06-01 00:50:00</th>\n",
       "      <td>13.0</td>\n",
       "      <td>17.0</td>\n",
       "      <td>Good weather</td>\n",
       "    </tr>\n",
       "    <tr>\n",
       "      <th>2019-06-01 01:50:00</th>\n",
       "      <td>12.0</td>\n",
       "      <td>15.0</td>\n",
       "      <td>Good weather</td>\n",
       "    </tr>\n",
       "    <tr>\n",
       "      <th>2019-06-01 02:50:00</th>\n",
       "      <td>12.0</td>\n",
       "      <td>11.0</td>\n",
       "      <td>Good weather</td>\n",
       "    </tr>\n",
       "    <tr>\n",
       "      <th>2019-06-01 03:20:00</th>\n",
       "      <td>12.0</td>\n",
       "      <td>6.0</td>\n",
       "      <td>Good weather</td>\n",
       "    </tr>\n",
       "    <tr>\n",
       "      <th>2019-06-01 03:50:00</th>\n",
       "      <td>12.0</td>\n",
       "      <td>6.0</td>\n",
       "      <td>Good weather</td>\n",
       "    </tr>\n",
       "  </tbody>\n",
       "</table>\n",
       "</div>"
      ],
      "text/plain": [
       "                     Temperature  Wind Speed        w_cond\n",
       "Time                                                      \n",
       "2019-06-01 00:50:00         13.0        17.0  Good weather\n",
       "2019-06-01 01:50:00         12.0        15.0  Good weather\n",
       "2019-06-01 02:50:00         12.0        11.0  Good weather\n",
       "2019-06-01 03:20:00         12.0         6.0  Good weather\n",
       "2019-06-01 03:50:00         12.0         6.0  Good weather"
      ]
     },
     "execution_count": 49,
     "metadata": {},
     "output_type": "execute_result"
    }
   ],
   "source": [
    "# create dictionary map for weather conditions\n",
    "map_weather = {}\n",
    "for i, x in enumerate(weather_df['Conditions'].unique()):\n",
    "    if i in [0, 1, 2, 10, 16, 18, 19]:\n",
    "        map_weather[x] = 'Good weather'\n",
    "    elif i in [4, 5, 7, 8, 11, 13, 20, 24]:\n",
    "        map_weather[x] = 'OK weather'\n",
    "    elif i in [3, 6, 9, 12, 14, 21, 25]:\n",
    "        map_weather[x] = 'Bad weather'\n",
    "    elif i in [15, 17, 22, 23, 26]:\n",
    "        map_weather[x] = 'Very bad weather'\n",
    "    else:\n",
    "        map_weather[x] = np.nan\n",
    "\n",
    "weather_df['w_cond'] = weather_df['Conditions'].map(map_weather)\n",
    "weather_df = weather_df.drop(columns='Conditions')\n",
    "weather_df.head()"
   ]
  },
  {
   "cell_type": "markdown",
   "metadata": {},
   "source": [
    "<b>We can further improve peformance of our model by using one hot encoding on the categorical variable, weather condition. Here, we use the pandas dataframe method [`get_dummies()`](https://pandas.pydata.org/pandas-docs/stable/reference/api/pandas.get_dummies.html) to encode the weather condition data."
   ]
  },
  {
   "cell_type": "code",
   "execution_count": 50,
   "metadata": {},
   "outputs": [
    {
     "data": {
      "text/html": [
       "<div>\n",
       "<style scoped>\n",
       "    .dataframe tbody tr th:only-of-type {\n",
       "        vertical-align: middle;\n",
       "    }\n",
       "\n",
       "    .dataframe tbody tr th {\n",
       "        vertical-align: top;\n",
       "    }\n",
       "\n",
       "    .dataframe thead th {\n",
       "        text-align: right;\n",
       "    }\n",
       "</style>\n",
       "<table border=\"1\" class=\"dataframe\">\n",
       "  <thead>\n",
       "    <tr style=\"text-align: right;\">\n",
       "      <th></th>\n",
       "      <th>Temperature</th>\n",
       "      <th>Wind Speed</th>\n",
       "      <th>w_cond_Bad weather</th>\n",
       "      <th>w_cond_Good weather</th>\n",
       "      <th>w_cond_OK weather</th>\n",
       "      <th>w_cond_Very bad weather</th>\n",
       "    </tr>\n",
       "    <tr>\n",
       "      <th>Time</th>\n",
       "      <th></th>\n",
       "      <th></th>\n",
       "      <th></th>\n",
       "      <th></th>\n",
       "      <th></th>\n",
       "      <th></th>\n",
       "    </tr>\n",
       "  </thead>\n",
       "  <tbody>\n",
       "    <tr>\n",
       "      <th>2019-06-01 00:50:00</th>\n",
       "      <td>13.0</td>\n",
       "      <td>17.0</td>\n",
       "      <td>0</td>\n",
       "      <td>1</td>\n",
       "      <td>0</td>\n",
       "      <td>0</td>\n",
       "    </tr>\n",
       "    <tr>\n",
       "      <th>2019-06-01 01:50:00</th>\n",
       "      <td>12.0</td>\n",
       "      <td>15.0</td>\n",
       "      <td>0</td>\n",
       "      <td>1</td>\n",
       "      <td>0</td>\n",
       "      <td>0</td>\n",
       "    </tr>\n",
       "    <tr>\n",
       "      <th>2019-06-01 02:50:00</th>\n",
       "      <td>12.0</td>\n",
       "      <td>11.0</td>\n",
       "      <td>0</td>\n",
       "      <td>1</td>\n",
       "      <td>0</td>\n",
       "      <td>0</td>\n",
       "    </tr>\n",
       "    <tr>\n",
       "      <th>2019-06-01 03:20:00</th>\n",
       "      <td>12.0</td>\n",
       "      <td>6.0</td>\n",
       "      <td>0</td>\n",
       "      <td>1</td>\n",
       "      <td>0</td>\n",
       "      <td>0</td>\n",
       "    </tr>\n",
       "    <tr>\n",
       "      <th>2019-06-01 03:50:00</th>\n",
       "      <td>12.0</td>\n",
       "      <td>6.0</td>\n",
       "      <td>0</td>\n",
       "      <td>1</td>\n",
       "      <td>0</td>\n",
       "      <td>0</td>\n",
       "    </tr>\n",
       "  </tbody>\n",
       "</table>\n",
       "</div>"
      ],
      "text/plain": [
       "                     Temperature  Wind Speed  w_cond_Bad weather  \\\n",
       "Time                                                               \n",
       "2019-06-01 00:50:00         13.0        17.0                   0   \n",
       "2019-06-01 01:50:00         12.0        15.0                   0   \n",
       "2019-06-01 02:50:00         12.0        11.0                   0   \n",
       "2019-06-01 03:20:00         12.0         6.0                   0   \n",
       "2019-06-01 03:50:00         12.0         6.0                   0   \n",
       "\n",
       "                     w_cond_Good weather  w_cond_OK weather  \\\n",
       "Time                                                          \n",
       "2019-06-01 00:50:00                    1                  0   \n",
       "2019-06-01 01:50:00                    1                  0   \n",
       "2019-06-01 02:50:00                    1                  0   \n",
       "2019-06-01 03:20:00                    1                  0   \n",
       "2019-06-01 03:50:00                    1                  0   \n",
       "\n",
       "                     w_cond_Very bad weather  \n",
       "Time                                          \n",
       "2019-06-01 00:50:00                        0  \n",
       "2019-06-01 01:50:00                        0  \n",
       "2019-06-01 02:50:00                        0  \n",
       "2019-06-01 03:20:00                        0  \n",
       "2019-06-01 03:50:00                        0  "
      ]
     },
     "execution_count": 50,
     "metadata": {},
     "output_type": "execute_result"
    }
   ],
   "source": [
    "weather_df = pd.get_dummies(weather_df)\n",
    "weather_df.head()"
   ]
  },
  {
   "cell_type": "markdown",
   "metadata": {},
   "source": [
    "<b>Now, we can merge the weather data with the cycle trips data. Note that the time index is not the same on both dataframes so we cannot merge them directly. We use the pandas index method [`get_loc(`*`key, method=nearest`*`)`](https://pandas.pydata.org/pandas-docs/stable/reference/api/pandas.Index.get_loc.html) to find the weather data in our weather dataframe at the time nearest to the trip start time. "
   ]
  },
  {
   "cell_type": "code",
   "execution_count": 58,
   "metadata": {},
   "outputs": [
    {
     "data": {
      "text/html": [
       "<div>\n",
       "<style scoped>\n",
       "    .dataframe tbody tr th:only-of-type {\n",
       "        vertical-align: middle;\n",
       "    }\n",
       "\n",
       "    .dataframe tbody tr th {\n",
       "        vertical-align: top;\n",
       "    }\n",
       "\n",
       "    .dataframe thead th {\n",
       "        text-align: right;\n",
       "    }\n",
       "</style>\n",
       "<table border=\"1\" class=\"dataframe\">\n",
       "  <thead>\n",
       "    <tr style=\"text-align: right;\">\n",
       "      <th></th>\n",
       "      <th></th>\n",
       "      <th>StartStation Name</th>\n",
       "      <th>End Date</th>\n",
       "      <th>EndStation Name</th>\n",
       "      <th>Duration(mins)</th>\n",
       "      <th>Bike Id</th>\n",
       "      <th>StartStation Id</th>\n",
       "      <th>EndStation Id</th>\n",
       "      <th>Day</th>\n",
       "      <th>hour</th>\n",
       "      <th>day_code</th>\n",
       "      <th>Temperature</th>\n",
       "      <th>Wind Speed</th>\n",
       "      <th>w_cond_Bad weather</th>\n",
       "      <th>w_cond_Good weather</th>\n",
       "      <th>w_cond_OK weather</th>\n",
       "      <th>w_cond_Very bad weather</th>\n",
       "    </tr>\n",
       "    <tr>\n",
       "      <th>Date</th>\n",
       "      <th>Start Date</th>\n",
       "      <th></th>\n",
       "      <th></th>\n",
       "      <th></th>\n",
       "      <th></th>\n",
       "      <th></th>\n",
       "      <th></th>\n",
       "      <th></th>\n",
       "      <th></th>\n",
       "      <th></th>\n",
       "      <th></th>\n",
       "      <th></th>\n",
       "      <th></th>\n",
       "      <th></th>\n",
       "      <th></th>\n",
       "      <th></th>\n",
       "      <th></th>\n",
       "    </tr>\n",
       "  </thead>\n",
       "  <tbody>\n",
       "    <tr>\n",
       "      <th rowspan=\"5\" valign=\"top\">2019-06-01</th>\n",
       "      <th>2019-06-01</th>\n",
       "      <td>Westminster University, Marylebone</td>\n",
       "      <td>2019-06-01 00:07:00</td>\n",
       "      <td>St. John's Wood Church, The Regent's Park</td>\n",
       "      <td>7.0</td>\n",
       "      <td>13485</td>\n",
       "      <td>257</td>\n",
       "      <td>247</td>\n",
       "      <td>5</td>\n",
       "      <td>0</td>\n",
       "      <td>W</td>\n",
       "      <td>13.0</td>\n",
       "      <td>17.0</td>\n",
       "      <td>0.0</td>\n",
       "      <td>1.0</td>\n",
       "      <td>0.0</td>\n",
       "      <td>0.0</td>\n",
       "    </tr>\n",
       "    <tr>\n",
       "      <th>2019-06-01</th>\n",
       "      <td>Upcerne Road, West Chelsea</td>\n",
       "      <td>2019-06-01 00:01:00</td>\n",
       "      <td>Upcerne Road, West Chelsea</td>\n",
       "      <td>1.0</td>\n",
       "      <td>14376</td>\n",
       "      <td>745</td>\n",
       "      <td>745</td>\n",
       "      <td>5</td>\n",
       "      <td>0</td>\n",
       "      <td>W</td>\n",
       "      <td>13.0</td>\n",
       "      <td>17.0</td>\n",
       "      <td>0.0</td>\n",
       "      <td>1.0</td>\n",
       "      <td>0.0</td>\n",
       "      <td>0.0</td>\n",
       "    </tr>\n",
       "    <tr>\n",
       "      <th>2019-06-01</th>\n",
       "      <td>Mile End Stadium, Mile End</td>\n",
       "      <td>2019-06-01 00:19:00</td>\n",
       "      <td>Mile End Park Leisure Centre, Mile End</td>\n",
       "      <td>19.0</td>\n",
       "      <td>10693</td>\n",
       "      <td>712</td>\n",
       "      <td>763</td>\n",
       "      <td>5</td>\n",
       "      <td>0</td>\n",
       "      <td>W</td>\n",
       "      <td>13.0</td>\n",
       "      <td>17.0</td>\n",
       "      <td>0.0</td>\n",
       "      <td>1.0</td>\n",
       "      <td>0.0</td>\n",
       "      <td>0.0</td>\n",
       "    </tr>\n",
       "    <tr>\n",
       "      <th>2019-06-01</th>\n",
       "      <td>Bethnal Green Road, Shoreditch</td>\n",
       "      <td>2019-06-01 00:10:00</td>\n",
       "      <td>Curlew Street, Shad Thames</td>\n",
       "      <td>10.0</td>\n",
       "      <td>7390</td>\n",
       "      <td>132</td>\n",
       "      <td>298</td>\n",
       "      <td>5</td>\n",
       "      <td>0</td>\n",
       "      <td>W</td>\n",
       "      <td>13.0</td>\n",
       "      <td>17.0</td>\n",
       "      <td>0.0</td>\n",
       "      <td>1.0</td>\n",
       "      <td>0.0</td>\n",
       "      <td>0.0</td>\n",
       "    </tr>\n",
       "    <tr>\n",
       "      <th>2019-06-01</th>\n",
       "      <td>Mile End Stadium, Mile End</td>\n",
       "      <td>2019-06-01 00:19:00</td>\n",
       "      <td>Mile End Park Leisure Centre, Mile End</td>\n",
       "      <td>19.0</td>\n",
       "      <td>11332</td>\n",
       "      <td>712</td>\n",
       "      <td>763</td>\n",
       "      <td>5</td>\n",
       "      <td>0</td>\n",
       "      <td>W</td>\n",
       "      <td>13.0</td>\n",
       "      <td>17.0</td>\n",
       "      <td>0.0</td>\n",
       "      <td>1.0</td>\n",
       "      <td>0.0</td>\n",
       "      <td>0.0</td>\n",
       "    </tr>\n",
       "  </tbody>\n",
       "</table>\n",
       "</div>"
      ],
      "text/plain": [
       "                                        StartStation Name            End Date  \\\n",
       "Date       Start Date                                                           \n",
       "2019-06-01 2019-06-01  Westminster University, Marylebone 2019-06-01 00:07:00   \n",
       "           2019-06-01          Upcerne Road, West Chelsea 2019-06-01 00:01:00   \n",
       "           2019-06-01          Mile End Stadium, Mile End 2019-06-01 00:19:00   \n",
       "           2019-06-01      Bethnal Green Road, Shoreditch 2019-06-01 00:10:00   \n",
       "           2019-06-01          Mile End Stadium, Mile End 2019-06-01 00:19:00   \n",
       "\n",
       "                                                 EndStation Name  \\\n",
       "Date       Start Date                                              \n",
       "2019-06-01 2019-06-01  St. John's Wood Church, The Regent's Park   \n",
       "           2019-06-01                 Upcerne Road, West Chelsea   \n",
       "           2019-06-01     Mile End Park Leisure Centre, Mile End   \n",
       "           2019-06-01                 Curlew Street, Shad Thames   \n",
       "           2019-06-01     Mile End Park Leisure Centre, Mile End   \n",
       "\n",
       "                       Duration(mins)  Bike Id  StartStation Id  \\\n",
       "Date       Start Date                                             \n",
       "2019-06-01 2019-06-01             7.0    13485              257   \n",
       "           2019-06-01             1.0    14376              745   \n",
       "           2019-06-01            19.0    10693              712   \n",
       "           2019-06-01            10.0     7390              132   \n",
       "           2019-06-01            19.0    11332              712   \n",
       "\n",
       "                       EndStation Id  Day  hour day_code  Temperature  \\\n",
       "Date       Start Date                                                   \n",
       "2019-06-01 2019-06-01            247    5     0        W         13.0   \n",
       "           2019-06-01            745    5     0        W         13.0   \n",
       "           2019-06-01            763    5     0        W         13.0   \n",
       "           2019-06-01            298    5     0        W         13.0   \n",
       "           2019-06-01            763    5     0        W         13.0   \n",
       "\n",
       "                       Wind Speed  w_cond_Bad weather  w_cond_Good weather  \\\n",
       "Date       Start Date                                                        \n",
       "2019-06-01 2019-06-01        17.0                 0.0                  1.0   \n",
       "           2019-06-01        17.0                 0.0                  1.0   \n",
       "           2019-06-01        17.0                 0.0                  1.0   \n",
       "           2019-06-01        17.0                 0.0                  1.0   \n",
       "           2019-06-01        17.0                 0.0                  1.0   \n",
       "\n",
       "                       w_cond_OK weather  w_cond_Very bad weather  \n",
       "Date       Start Date                                              \n",
       "2019-06-01 2019-06-01                0.0                      0.0  \n",
       "           2019-06-01                0.0                      0.0  \n",
       "           2019-06-01                0.0                      0.0  \n",
       "           2019-06-01                0.0                      0.0  \n",
       "           2019-06-01                0.0                      0.0  "
      ]
     },
     "execution_count": 58,
     "metadata": {},
     "output_type": "execute_result"
    }
   ],
   "source": [
    "# find weather data by matching to nearest time \n",
    "weather_dict = {}\n",
    "for date in cycle_df_clean.index.get_level_values('Start Date').unique():\n",
    "    weather_dict[date] = weather_df.iloc[weather_df.index.get_loc(date, method='nearest')]\n",
    "\n",
    "# merge new weather dataframe with same index as trip data\n",
    "df = pd.DataFrame.from_dict(weather_dict, orient='index')\n",
    "cycle_df_weather = cycle_df_clean.merge(df, left_on='Start Date', right_index=True, how='left')\n",
    "cycle_df_weather.head()"
   ]
  },
  {
   "cell_type": "code",
   "execution_count": 59,
   "metadata": {},
   "outputs": [],
   "source": [
    "cycle_df_weather.to_csv('data/cycle_df_weather.csv')\n",
    "cycle_df_clean.to_csv('data/cycle_df_clean.csv')\n",
    "weather_df.to_csv('data/weather_df.csv')"
   ]
  },
  {
   "cell_type": "markdown",
   "metadata": {},
   "source": [
    "<b>We now have a clean data set with added features such as day type, hour of day, temperature, wind speed and weather condition. In the next section of the project, we will look for relationships within our data set using data visualisation tools."
   ]
  }
 ],
 "metadata": {
  "kernelspec": {
   "display_name": "Python 3",
   "language": "python",
   "name": "python3"
  },
  "language_info": {
   "codemirror_mode": {
    "name": "ipython",
    "version": 3
   },
   "file_extension": ".py",
   "mimetype": "text/x-python",
   "name": "python",
   "nbconvert_exporter": "python",
   "pygments_lexer": "ipython3",
   "version": "3.7.4"
  }
 },
 "nbformat": 4,
 "nbformat_minor": 4
}
